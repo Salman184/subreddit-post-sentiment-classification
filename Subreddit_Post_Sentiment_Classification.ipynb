{
  "cells": [
    {
      "cell_type": "markdown",
      "metadata": {
        "id": "zIw4IehRvCTj"
      },
      "source": [
        "# **PACKAGE SETUP**"
      ]
    },
    {
      "cell_type": "markdown",
      "metadata": {
        "id": "vqy-M_3QvLZy"
      },
      "source": [
        "### **Installing and Importing Packages**"
      ]
    },
    {
      "cell_type": "code",
      "execution_count": null,
      "metadata": {
        "colab": {
          "base_uri": "https://localhost:8080/"
        },
        "id": "FSIhu057r3Ph",
        "outputId": "7f5ce0fb-812f-4a90-8f7f-8b8324ffa7a5"
      },
      "outputs": [
        {
          "output_type": "stream",
          "name": "stdout",
          "text": [
            "Collecting en_core_web_sm==2.2.5\n",
            "  Downloading https://github.com/explosion/spacy-models/releases/download/en_core_web_sm-2.2.5/en_core_web_sm-2.2.5.tar.gz (12.0 MB)\n",
            "\u001b[K     |████████████████████████████████| 12.0 MB 5.1 MB/s \n",
            "\u001b[?25hRequirement already satisfied: spacy>=2.2.2 in /usr/local/lib/python3.7/dist-packages (from en_core_web_sm==2.2.5) (2.2.4)\n",
            "Requirement already satisfied: cymem<2.1.0,>=2.0.2 in /usr/local/lib/python3.7/dist-packages (from spacy>=2.2.2->en_core_web_sm==2.2.5) (2.0.6)\n",
            "Requirement already satisfied: srsly<1.1.0,>=1.0.2 in /usr/local/lib/python3.7/dist-packages (from spacy>=2.2.2->en_core_web_sm==2.2.5) (1.0.5)\n",
            "Requirement already satisfied: numpy>=1.15.0 in /usr/local/lib/python3.7/dist-packages (from spacy>=2.2.2->en_core_web_sm==2.2.5) (1.19.5)\n",
            "Requirement already satisfied: preshed<3.1.0,>=3.0.2 in /usr/local/lib/python3.7/dist-packages (from spacy>=2.2.2->en_core_web_sm==2.2.5) (3.0.6)\n",
            "Requirement already satisfied: thinc==7.4.0 in /usr/local/lib/python3.7/dist-packages (from spacy>=2.2.2->en_core_web_sm==2.2.5) (7.4.0)\n",
            "Requirement already satisfied: murmurhash<1.1.0,>=0.28.0 in /usr/local/lib/python3.7/dist-packages (from spacy>=2.2.2->en_core_web_sm==2.2.5) (1.0.6)\n",
            "Requirement already satisfied: tqdm<5.0.0,>=4.38.0 in /usr/local/lib/python3.7/dist-packages (from spacy>=2.2.2->en_core_web_sm==2.2.5) (4.62.3)\n",
            "Requirement already satisfied: requests<3.0.0,>=2.13.0 in /usr/local/lib/python3.7/dist-packages (from spacy>=2.2.2->en_core_web_sm==2.2.5) (2.23.0)\n",
            "Requirement already satisfied: plac<1.2.0,>=0.9.6 in /usr/local/lib/python3.7/dist-packages (from spacy>=2.2.2->en_core_web_sm==2.2.5) (1.1.3)\n",
            "Requirement already satisfied: wasabi<1.1.0,>=0.4.0 in /usr/local/lib/python3.7/dist-packages (from spacy>=2.2.2->en_core_web_sm==2.2.5) (0.8.2)\n",
            "Requirement already satisfied: setuptools in /usr/local/lib/python3.7/dist-packages (from spacy>=2.2.2->en_core_web_sm==2.2.5) (57.4.0)\n",
            "Requirement already satisfied: blis<0.5.0,>=0.4.0 in /usr/local/lib/python3.7/dist-packages (from spacy>=2.2.2->en_core_web_sm==2.2.5) (0.4.1)\n",
            "Requirement already satisfied: catalogue<1.1.0,>=0.0.7 in /usr/local/lib/python3.7/dist-packages (from spacy>=2.2.2->en_core_web_sm==2.2.5) (1.0.0)\n",
            "Requirement already satisfied: importlib-metadata>=0.20 in /usr/local/lib/python3.7/dist-packages (from catalogue<1.1.0,>=0.0.7->spacy>=2.2.2->en_core_web_sm==2.2.5) (4.8.2)\n",
            "Requirement already satisfied: typing-extensions>=3.6.4 in /usr/local/lib/python3.7/dist-packages (from importlib-metadata>=0.20->catalogue<1.1.0,>=0.0.7->spacy>=2.2.2->en_core_web_sm==2.2.5) (3.10.0.2)\n",
            "Requirement already satisfied: zipp>=0.5 in /usr/local/lib/python3.7/dist-packages (from importlib-metadata>=0.20->catalogue<1.1.0,>=0.0.7->spacy>=2.2.2->en_core_web_sm==2.2.5) (3.6.0)\n",
            "Requirement already satisfied: chardet<4,>=3.0.2 in /usr/local/lib/python3.7/dist-packages (from requests<3.0.0,>=2.13.0->spacy>=2.2.2->en_core_web_sm==2.2.5) (3.0.4)\n",
            "Requirement already satisfied: urllib3!=1.25.0,!=1.25.1,<1.26,>=1.21.1 in /usr/local/lib/python3.7/dist-packages (from requests<3.0.0,>=2.13.0->spacy>=2.2.2->en_core_web_sm==2.2.5) (1.24.3)\n",
            "Requirement already satisfied: idna<3,>=2.5 in /usr/local/lib/python3.7/dist-packages (from requests<3.0.0,>=2.13.0->spacy>=2.2.2->en_core_web_sm==2.2.5) (2.10)\n",
            "Requirement already satisfied: certifi>=2017.4.17 in /usr/local/lib/python3.7/dist-packages (from requests<3.0.0,>=2.13.0->spacy>=2.2.2->en_core_web_sm==2.2.5) (2021.10.8)\n",
            "\u001b[38;5;2m✔ Download and installation successful\u001b[0m\n",
            "You can now load the model via spacy.load('en_core_web_sm')\n",
            "\u001b[38;5;2m✔ Linking successful\u001b[0m\n",
            "/usr/local/lib/python3.7/dist-packages/en_core_web_sm -->\n",
            "/usr/local/lib/python3.7/dist-packages/spacy/data/en\n",
            "You can now load the model via spacy.load('en')\n",
            "[nltk_data] Downloading package stopwords to /root/nltk_data...\n",
            "[nltk_data]   Unzipping corpora/stopwords.zip.\n"
          ]
        }
      ],
      "source": [
        "!python -m spacy download en\n",
        "\n",
        "import string\n",
        "import spacy\n",
        "import nltk\n",
        "nltk.download('stopwords')\n",
        "from nltk.corpus import stopwords"
      ]
    },
    {
      "cell_type": "code",
      "execution_count": null,
      "metadata": {
        "id": "uQDxshLIr36I"
      },
      "outputs": [],
      "source": [
        "import pandas as pd\n",
        "import numpy as np\n",
        "import matplotlib.pyplot as plt\n",
        "import time\n",
        "import datetime\n",
        "import joblib\n",
        "\n",
        "from sklearn.preprocessing import LabelEncoder\n",
        "from sklearn.feature_extraction.text import CountVectorizer\n",
        "from sklearn.feature_extraction.text import TfidfVectorizer\n",
        "from sklearn.dummy import DummyClassifier\n",
        "from sklearn.linear_model import LogisticRegression\n",
        "from sklearn.svm import SVC\n",
        "from sklearn.model_selection import ParameterGrid\n",
        "from sklearn.pipeline import Pipeline\n",
        "from sklearn.metrics import precision_score\n",
        "from sklearn.metrics import recall_score\n",
        "from sklearn.metrics import accuracy_score\n",
        "from sklearn.metrics import fbeta_score\n",
        "from sklearn.metrics import f1_score\n",
        "from gensim.models.word2vec import Word2Vec"
      ]
    },
    {
      "cell_type": "markdown",
      "metadata": {
        "id": "yZhYGNK_v7f8"
      },
      "source": [
        "# **DATASET SETUP AND ANALYSIS**"
      ]
    },
    {
      "cell_type": "markdown",
      "metadata": {
        "id": "9CsDT23UwcKd"
      },
      "source": [
        "### **Training, Validation and Test Data**"
      ]
    },
    {
      "cell_type": "code",
      "execution_count": null,
      "metadata": {
        "id": "ZG9BpbQt3-ko"
      },
      "outputs": [],
      "source": [
        "train_data = pd.read_json(\"https://raw.githubusercontent.com/rpsoft/tad_course/main/reddit_sentiment_train.json\")\n",
        "\n",
        "validation_data = pd.read_json(\"https://raw.githubusercontent.com/rpsoft/tad_course/main/reddit_sentiment_validation.json\")\n",
        "\n",
        "test_data = pd.read_json(\"https://raw.githubusercontent.com/rpsoft/tad_course/main/reddit_sentiment_test.json\")"
      ]
    },
    {
      "cell_type": "markdown",
      "metadata": {
        "id": "SiSB1vbqwkaD"
      },
      "source": [
        "### **Data Analysis**"
      ]
    },
    {
      "cell_type": "markdown",
      "metadata": {
        "id": "o3PsdSqP0tDE"
      },
      "source": [
        "**Data analysis of training data**"
      ]
    },
    {
      "cell_type": "code",
      "execution_count": null,
      "metadata": {
        "colab": {
          "base_uri": "https://localhost:8080/",
          "height": 1000
        },
        "id": "REvXkGRbdx0i",
        "outputId": "42cd8fa3-0944-4bf7-a815-4aa1566afd14"
      },
      "outputs": [
        {
          "data": {
            "text/html": [
              "\n",
              "  <div id=\"df-b919c2a6-542a-4bde-b5c7-d7e0fc5723c2\">\n",
              "    <div class=\"colab-df-container\">\n",
              "      <div>\n",
              "<style scoped>\n",
              "    .dataframe tbody tr th:only-of-type {\n",
              "        vertical-align: middle;\n",
              "    }\n",
              "\n",
              "    .dataframe tbody tr th {\n",
              "        vertical-align: top;\n",
              "    }\n",
              "\n",
              "    .dataframe thead th {\n",
              "        text-align: right;\n",
              "    }\n",
              "</style>\n",
              "<table border=\"1\" class=\"dataframe\">\n",
              "  <thead>\n",
              "    <tr style=\"text-align: right;\">\n",
              "      <th></th>\n",
              "      <th>subreddit</th>\n",
              "      <th>title</th>\n",
              "      <th>id</th>\n",
              "      <th>url</th>\n",
              "      <th>author</th>\n",
              "      <th>body</th>\n",
              "      <th>majority_type</th>\n",
              "      <th>is_first_post</th>\n",
              "      <th>post_depth</th>\n",
              "      <th>in_reply_to</th>\n",
              "      <th>sentiment.polarity</th>\n",
              "      <th>sentiment.subjectivity</th>\n",
              "    </tr>\n",
              "  </thead>\n",
              "  <tbody>\n",
              "    <tr>\n",
              "      <th>0</th>\n",
              "      <td>relationships</td>\n",
              "      <td>My Friend/Crush [22/F] acting weird after I [2...</td>\n",
              "      <td>t1_cy7f317</td>\n",
              "      <td>https://www.reddit.com/r/relationships/comment...</td>\n",
              "      <td>Melodrama_</td>\n",
              "      <td>It's a sad realization, isn't it?</td>\n",
              "      <td></td>\n",
              "      <td>False</td>\n",
              "      <td>2</td>\n",
              "      <td>t1_cy7erc5</td>\n",
              "      <td>negative</td>\n",
              "      <td>1.000000</td>\n",
              "    </tr>\n",
              "    <tr>\n",
              "      <th>1</th>\n",
              "      <td>relationships</td>\n",
              "      <td>My Friend/Crush [22/F] acting weird after I [2...</td>\n",
              "      <td>t1_cy7hlyf</td>\n",
              "      <td>https://www.reddit.com/r/relationships/comment...</td>\n",
              "      <td>Melodrama_</td>\n",
              "      <td>I told her a couple of minutes ago that I didn...</td>\n",
              "      <td>elaboration</td>\n",
              "      <td>False</td>\n",
              "      <td>2</td>\n",
              "      <td>t1_cy7erc5</td>\n",
              "      <td>neutral</td>\n",
              "      <td>0.483631</td>\n",
              "    </tr>\n",
              "    <tr>\n",
              "      <th>2</th>\n",
              "      <td>relationships</td>\n",
              "      <td>My Friend/Crush [22/F] acting weird after I [2...</td>\n",
              "      <td>t1_cy7etrr</td>\n",
              "      <td>https://www.reddit.com/r/relationships/comment...</td>\n",
              "      <td>TreatYoSelves</td>\n",
              "      <td>Leeches don't make good friends.</td>\n",
              "      <td>answer</td>\n",
              "      <td>False</td>\n",
              "      <td>1</td>\n",
              "      <td>t3_3xshx9</td>\n",
              "      <td>positive</td>\n",
              "      <td>0.600000</td>\n",
              "    </tr>\n",
              "    <tr>\n",
              "      <th>3</th>\n",
              "      <td>relationships</td>\n",
              "      <td>My Friend/Crush [22/F] acting weird after I [2...</td>\n",
              "      <td>t1_cy7hhpq</td>\n",
              "      <td>https://www.reddit.com/r/relationships/comment...</td>\n",
              "      <td>Melodrama_</td>\n",
              "      <td>I just ended it. Apparently she wasn't a good ...</td>\n",
              "      <td>elaboration</td>\n",
              "      <td>False</td>\n",
              "      <td>2</td>\n",
              "      <td>t1_cy7etrr</td>\n",
              "      <td>positive</td>\n",
              "      <td>0.475000</td>\n",
              "    </tr>\n",
              "    <tr>\n",
              "      <th>4</th>\n",
              "      <td>relationships</td>\n",
              "      <td>My Friend/Crush [22/F] acting weird after I [2...</td>\n",
              "      <td>t1_cy7q0qg</td>\n",
              "      <td>https://www.reddit.com/r/relationships/comment...</td>\n",
              "      <td>TreatYoSelves</td>\n",
              "      <td>Good for you!  Make sure you stick with it.</td>\n",
              "      <td>appreciation</td>\n",
              "      <td>False</td>\n",
              "      <td>3</td>\n",
              "      <td>t1_cy7hhpq</td>\n",
              "      <td>positive</td>\n",
              "      <td>0.744444</td>\n",
              "    </tr>\n",
              "    <tr>\n",
              "      <th>...</th>\n",
              "      <td>...</td>\n",
              "      <td>...</td>\n",
              "      <td>...</td>\n",
              "      <td>...</td>\n",
              "      <td>...</td>\n",
              "      <td>...</td>\n",
              "      <td>...</td>\n",
              "      <td>...</td>\n",
              "      <td>...</td>\n",
              "      <td>...</td>\n",
              "      <td>...</td>\n",
              "      <td>...</td>\n",
              "    </tr>\n",
              "    <tr>\n",
              "      <th>12133</th>\n",
              "      <td>reddit.com</td>\n",
              "      <td>If I announced myself as God right now, would ...</td>\n",
              "      <td>t1_c1zpyd0</td>\n",
              "      <td>https://www.reddit.com/r/reddit.com/comments/h...</td>\n",
              "      <td></td>\n",
              "      <td>If you were God, you'd know whether we would b...</td>\n",
              "      <td>answer</td>\n",
              "      <td>False</td>\n",
              "      <td>1</td>\n",
              "      <td>t3_hzu51</td>\n",
              "      <td>neutral</td>\n",
              "      <td>0.000000</td>\n",
              "    </tr>\n",
              "    <tr>\n",
              "      <th>12134</th>\n",
              "      <td>reddit.com</td>\n",
              "      <td>If I announced myself as God right now, would ...</td>\n",
              "      <td>t1_c1zpz7m</td>\n",
              "      <td>https://www.reddit.com/r/reddit.com/comments/h...</td>\n",
              "      <td>TheCannon</td>\n",
              "      <td>If I check my account balance in 5 minutes and...</td>\n",
              "      <td>answer</td>\n",
              "      <td>False</td>\n",
              "      <td>1</td>\n",
              "      <td>t3_hzu51</td>\n",
              "      <td>neutral</td>\n",
              "      <td>0.000000</td>\n",
              "    </tr>\n",
              "    <tr>\n",
              "      <th>12135</th>\n",
              "      <td>reddit.com</td>\n",
              "      <td>If I announced myself as God right now, would ...</td>\n",
              "      <td>t1_c1zq0tl</td>\n",
              "      <td>https://www.reddit.com/r/reddit.com/comments/h...</td>\n",
              "      <td>alllie</td>\n",
              "      <td>I don't know. Can you heal the sick with a tou...</td>\n",
              "      <td>answer</td>\n",
              "      <td>False</td>\n",
              "      <td>1</td>\n",
              "      <td>t3_hzu51</td>\n",
              "      <td>negative</td>\n",
              "      <td>0.637202</td>\n",
              "    </tr>\n",
              "    <tr>\n",
              "      <th>12136</th>\n",
              "      <td>reddit.com</td>\n",
              "      <td>If I announced myself as God right now, would ...</td>\n",
              "      <td>t1_c1zq19j</td>\n",
              "      <td>https://www.reddit.com/r/reddit.com/comments/h...</td>\n",
              "      <td>TheCannon</td>\n",
              "      <td>... Give LeBron James a championship ring?</td>\n",
              "      <td>humor</td>\n",
              "      <td>False</td>\n",
              "      <td>2</td>\n",
              "      <td>t1_c1zq0tl</td>\n",
              "      <td>neutral</td>\n",
              "      <td>0.000000</td>\n",
              "    </tr>\n",
              "    <tr>\n",
              "      <th>12137</th>\n",
              "      <td>reddit.com</td>\n",
              "      <td>If I announced myself as God right now, would ...</td>\n",
              "      <td>t1_c1zqg1w</td>\n",
              "      <td>https://www.reddit.com/r/reddit.com/comments/h...</td>\n",
              "      <td>blueiiiis</td>\n",
              "      <td>Well, if you believed it, that'd be one</td>\n",
              "      <td>answer</td>\n",
              "      <td>False</td>\n",
              "      <td>1</td>\n",
              "      <td>t3_hzu51</td>\n",
              "      <td>neutral</td>\n",
              "      <td>0.000000</td>\n",
              "    </tr>\n",
              "  </tbody>\n",
              "</table>\n",
              "<p>12138 rows × 12 columns</p>\n",
              "</div>\n",
              "      <button class=\"colab-df-convert\" onclick=\"convertToInteractive('df-b919c2a6-542a-4bde-b5c7-d7e0fc5723c2')\"\n",
              "              title=\"Convert this dataframe to an interactive table.\"\n",
              "              style=\"display:none;\">\n",
              "        \n",
              "  <svg xmlns=\"http://www.w3.org/2000/svg\" height=\"24px\"viewBox=\"0 0 24 24\"\n",
              "       width=\"24px\">\n",
              "    <path d=\"M0 0h24v24H0V0z\" fill=\"none\"/>\n",
              "    <path d=\"M18.56 5.44l.94 2.06.94-2.06 2.06-.94-2.06-.94-.94-2.06-.94 2.06-2.06.94zm-11 1L8.5 8.5l.94-2.06 2.06-.94-2.06-.94L8.5 2.5l-.94 2.06-2.06.94zm10 10l.94 2.06.94-2.06 2.06-.94-2.06-.94-.94-2.06-.94 2.06-2.06.94z\"/><path d=\"M17.41 7.96l-1.37-1.37c-.4-.4-.92-.59-1.43-.59-.52 0-1.04.2-1.43.59L10.3 9.45l-7.72 7.72c-.78.78-.78 2.05 0 2.83L4 21.41c.39.39.9.59 1.41.59.51 0 1.02-.2 1.41-.59l7.78-7.78 2.81-2.81c.8-.78.8-2.07 0-2.86zM5.41 20L4 18.59l7.72-7.72 1.47 1.35L5.41 20z\"/>\n",
              "  </svg>\n",
              "      </button>\n",
              "      \n",
              "  <style>\n",
              "    .colab-df-container {\n",
              "      display:flex;\n",
              "      flex-wrap:wrap;\n",
              "      gap: 12px;\n",
              "    }\n",
              "\n",
              "    .colab-df-convert {\n",
              "      background-color: #E8F0FE;\n",
              "      border: none;\n",
              "      border-radius: 50%;\n",
              "      cursor: pointer;\n",
              "      display: none;\n",
              "      fill: #1967D2;\n",
              "      height: 32px;\n",
              "      padding: 0 0 0 0;\n",
              "      width: 32px;\n",
              "    }\n",
              "\n",
              "    .colab-df-convert:hover {\n",
              "      background-color: #E2EBFA;\n",
              "      box-shadow: 0px 1px 2px rgba(60, 64, 67, 0.3), 0px 1px 3px 1px rgba(60, 64, 67, 0.15);\n",
              "      fill: #174EA6;\n",
              "    }\n",
              "\n",
              "    [theme=dark] .colab-df-convert {\n",
              "      background-color: #3B4455;\n",
              "      fill: #D2E3FC;\n",
              "    }\n",
              "\n",
              "    [theme=dark] .colab-df-convert:hover {\n",
              "      background-color: #434B5C;\n",
              "      box-shadow: 0px 1px 3px 1px rgba(0, 0, 0, 0.15);\n",
              "      filter: drop-shadow(0px 1px 2px rgba(0, 0, 0, 0.3));\n",
              "      fill: #FFFFFF;\n",
              "    }\n",
              "  </style>\n",
              "\n",
              "      <script>\n",
              "        const buttonEl =\n",
              "          document.querySelector('#df-b919c2a6-542a-4bde-b5c7-d7e0fc5723c2 button.colab-df-convert');\n",
              "        buttonEl.style.display =\n",
              "          google.colab.kernel.accessAllowed ? 'block' : 'none';\n",
              "\n",
              "        async function convertToInteractive(key) {\n",
              "          const element = document.querySelector('#df-b919c2a6-542a-4bde-b5c7-d7e0fc5723c2');\n",
              "          const dataTable =\n",
              "            await google.colab.kernel.invokeFunction('convertToInteractive',\n",
              "                                                     [key], {});\n",
              "          if (!dataTable) return;\n",
              "\n",
              "          const docLinkHtml = 'Like what you see? Visit the ' +\n",
              "            '<a target=\"_blank\" href=https://colab.research.google.com/notebooks/data_table.ipynb>data table notebook</a>'\n",
              "            + ' to learn more about interactive tables.';\n",
              "          element.innerHTML = '';\n",
              "          dataTable['output_type'] = 'display_data';\n",
              "          await google.colab.output.renderOutput(dataTable, element);\n",
              "          const docLink = document.createElement('div');\n",
              "          docLink.innerHTML = docLinkHtml;\n",
              "          element.appendChild(docLink);\n",
              "        }\n",
              "      </script>\n",
              "    </div>\n",
              "  </div>\n",
              "  "
            ],
            "text/plain": [
              "           subreddit  ... sentiment.subjectivity\n",
              "0      relationships  ...               1.000000\n",
              "1      relationships  ...               0.483631\n",
              "2      relationships  ...               0.600000\n",
              "3      relationships  ...               0.475000\n",
              "4      relationships  ...               0.744444\n",
              "...              ...  ...                    ...\n",
              "12133     reddit.com  ...               0.000000\n",
              "12134     reddit.com  ...               0.000000\n",
              "12135     reddit.com  ...               0.637202\n",
              "12136     reddit.com  ...               0.000000\n",
              "12137     reddit.com  ...               0.000000\n",
              "\n",
              "[12138 rows x 12 columns]"
            ]
          },
          "execution_count": 5,
          "metadata": {},
          "output_type": "execute_result"
        }
      ],
      "source": [
        "train_data"
      ]
    },
    {
      "cell_type": "code",
      "execution_count": null,
      "metadata": {
        "colab": {
          "base_uri": "https://localhost:8080/"
        },
        "id": "0l1oxhjB_LmV",
        "outputId": "7bf1ad6b-cd13-4309-f58c-aad054f264a2"
      },
      "outputs": [
        {
          "data": {
            "text/plain": [
              "askreddit               3440\n",
              "leagueoflegends         1548\n",
              "buildapc                 908\n",
              "electronic_cigarette     703\n",
              "pcmasterrace             526\n",
              "trees                    466\n",
              "gaming                   441\n",
              "relationships            431\n",
              "summonerschool           425\n",
              "explainlikeimfive        379\n",
              "whowouldwin              357\n",
              "movies                   349\n",
              "jailbreak                343\n",
              "techsupport              342\n",
              "personalfinance          291\n",
              "atheism                  289\n",
              "hearthstone              284\n",
              "tipofmytongue            217\n",
              "reddit.com               204\n",
              "starcraft                195\n",
              "Name: subreddit, dtype: int64"
            ]
          },
          "execution_count": 6,
          "metadata": {},
          "output_type": "execute_result"
        }
      ],
      "source": [
        "subreddits = train_data['subreddit']\n",
        "subreddits.value_counts()"
      ]
    },
    {
      "cell_type": "markdown",
      "metadata": {
        "id": "dLoeMxEr09fK"
      },
      "source": [
        "**Data analysis of target labels**"
      ]
    },
    {
      "cell_type": "code",
      "execution_count": null,
      "metadata": {
        "colab": {
          "base_uri": "https://localhost:8080/"
        },
        "id": "59b-tEk615Ax",
        "outputId": "fe8afd50-2d31-4ece-d735-22966df352a2"
      },
      "outputs": [
        {
          "data": {
            "text/plain": [
              "neutral          7679\n",
              "positive         3231\n",
              "negative          878\n",
              "very positive     253\n",
              "very negative      97\n",
              "Name: sentiment.polarity, dtype: int64"
            ]
          },
          "execution_count": 7,
          "metadata": {},
          "output_type": "execute_result"
        }
      ],
      "source": [
        "labels = train_data['sentiment.polarity']\n",
        "labels.value_counts()"
      ]
    },
    {
      "cell_type": "code",
      "execution_count": null,
      "metadata": {
        "colab": {
          "base_uri": "https://localhost:8080/",
          "height": 337
        },
        "id": "B5ulsRt_nDfM",
        "outputId": "effc255e-1d23-492c-f791-8614d225ac52"
      },
      "outputs": [
        {
          "data": {
            "image/png": "[encoded data removed]",
            "text/plain": [
              "<Figure size 432x288 with 1 Axes>"
            ]
          },
          "metadata": {},
          "output_type": "display_data"
        }
      ],
      "source": [
        "true_polarity_labels = labels.value_counts()\n",
        "fig = plt.figure()\n",
        "ax = fig.add_axes([0,0,1,1])\n",
        "ax.bar(true_polarity_labels.keys(), true_polarity_labels.values)\n",
        "plt.show()"
      ]
    },
    {
      "cell_type": "markdown",
      "metadata": {
        "id": "plSOGpgmwurw"
      },
      "source": [
        "# **DATA PRE-PROCESSING**"
      ]
    },
    {
      "cell_type": "markdown",
      "metadata": {
        "id": "xN9bJguMx39Z"
      },
      "source": [
        "### **Downloading Pre-trained NLP model and All Stopwords**"
      ]
    },
    {
      "cell_type": "code",
      "execution_count": null,
      "metadata": {
        "id": "C86OO1nQ7BCR"
      },
      "outputs": [],
      "source": [
        "nlp = spacy.load('en_core_web_sm', disable=['ner'])\n",
        "nlp.remove_pipe('tagger')\n",
        "nlp.remove_pipe('parser')\n",
        "\n",
        "all_stops = set(stopwords.words('english')) | set(string.punctuation)"
      ]
    },
    {
      "cell_type": "code",
      "execution_count": null,
      "metadata": {
        "colab": {
          "base_uri": "https://localhost:8080/"
        },
        "id": "mJ-kj7k14l1_",
        "outputId": "c0adf913-2866-4504-a489-030cef48df48"
      },
      "outputs": [
        {
          "data": {
            "text/plain": [
              "{'!',\n",
              " '\"',\n",
              " '#',\n",
              " '$',\n",
              " '%',\n",
              " '&',\n",
              " \"'\",\n",
              " '(',\n",
              " ')',\n",
              " '*',\n",
              " '+',\n",
              " ',',\n",
              " '-',\n",
              " '.',\n",
              " '/',\n",
              " ':',\n",
              " ';',\n",
              " '<',\n",
              " '=',\n",
              " '>',\n",
              " '?',\n",
              " '@',\n",
              " '[',\n",
              " '\\\\',\n",
              " ']',\n",
              " '^',\n",
              " '_',\n",
              " '`',\n",
              " 'a',\n",
              " 'about',\n",
              " 'above',\n",
              " 'after',\n",
              " 'again',\n",
              " 'against',\n",
              " 'ain',\n",
              " 'all',\n",
              " 'am',\n",
              " 'an',\n",
              " 'and',\n",
              " 'any',\n",
              " 'are',\n",
              " 'aren',\n",
              " \"aren't\",\n",
              " 'as',\n",
              " 'at',\n",
              " 'be',\n",
              " 'because',\n",
              " 'been',\n",
              " 'before',\n",
              " 'being',\n",
              " 'below',\n",
              " 'between',\n",
              " 'both',\n",
              " 'but',\n",
              " 'by',\n",
              " 'can',\n",
              " 'couldn',\n",
              " \"couldn't\",\n",
              " 'd',\n",
              " 'did',\n",
              " 'didn',\n",
              " \"didn't\",\n",
              " 'do',\n",
              " 'does',\n",
              " 'doesn',\n",
              " \"doesn't\",\n",
              " 'doing',\n",
              " 'don',\n",
              " \"don't\",\n",
              " 'down',\n",
              " 'during',\n",
              " 'each',\n",
              " 'few',\n",
              " 'for',\n",
              " 'from',\n",
              " 'further',\n",
              " 'had',\n",
              " 'hadn',\n",
              " \"hadn't\",\n",
              " 'has',\n",
              " 'hasn',\n",
              " \"hasn't\",\n",
              " 'have',\n",
              " 'haven',\n",
              " \"haven't\",\n",
              " 'having',\n",
              " 'he',\n",
              " 'her',\n",
              " 'here',\n",
              " 'hers',\n",
              " 'herself',\n",
              " 'him',\n",
              " 'himself',\n",
              " 'his',\n",
              " 'how',\n",
              " 'i',\n",
              " 'if',\n",
              " 'in',\n",
              " 'into',\n",
              " 'is',\n",
              " 'isn',\n",
              " \"isn't\",\n",
              " 'it',\n",
              " \"it's\",\n",
              " 'its',\n",
              " 'itself',\n",
              " 'just',\n",
              " 'll',\n",
              " 'm',\n",
              " 'ma',\n",
              " 'me',\n",
              " 'mightn',\n",
              " \"mightn't\",\n",
              " 'more',\n",
              " 'most',\n",
              " 'mustn',\n",
              " \"mustn't\",\n",
              " 'my',\n",
              " 'myself',\n",
              " 'needn',\n",
              " \"needn't\",\n",
              " 'no',\n",
              " 'nor',\n",
              " 'not',\n",
              " 'now',\n",
              " 'o',\n",
              " 'of',\n",
              " 'off',\n",
              " 'on',\n",
              " 'once',\n",
              " 'only',\n",
              " 'or',\n",
              " 'other',\n",
              " 'our',\n",
              " 'ours',\n",
              " 'ourselves',\n",
              " 'out',\n",
              " 'over',\n",
              " 'own',\n",
              " 're',\n",
              " 's',\n",
              " 'same',\n",
              " 'shan',\n",
              " \"shan't\",\n",
              " 'she',\n",
              " \"she's\",\n",
              " 'should',\n",
              " \"should've\",\n",
              " 'shouldn',\n",
              " \"shouldn't\",\n",
              " 'so',\n",
              " 'some',\n",
              " 'such',\n",
              " 't',\n",
              " 'than',\n",
              " 'that',\n",
              " \"that'll\",\n",
              " 'the',\n",
              " 'their',\n",
              " 'theirs',\n",
              " 'them',\n",
              " 'themselves',\n",
              " 'then',\n",
              " 'there',\n",
              " 'these',\n",
              " 'they',\n",
              " 'this',\n",
              " 'those',\n",
              " 'through',\n",
              " 'to',\n",
              " 'too',\n",
              " 'under',\n",
              " 'until',\n",
              " 'up',\n",
              " 've',\n",
              " 'very',\n",
              " 'was',\n",
              " 'wasn',\n",
              " \"wasn't\",\n",
              " 'we',\n",
              " 'were',\n",
              " 'weren',\n",
              " \"weren't\",\n",
              " 'what',\n",
              " 'when',\n",
              " 'where',\n",
              " 'which',\n",
              " 'while',\n",
              " 'who',\n",
              " 'whom',\n",
              " 'why',\n",
              " 'will',\n",
              " 'with',\n",
              " 'won',\n",
              " \"won't\",\n",
              " 'wouldn',\n",
              " \"wouldn't\",\n",
              " 'y',\n",
              " 'you',\n",
              " \"you'd\",\n",
              " \"you'll\",\n",
              " \"you're\",\n",
              " \"you've\",\n",
              " 'your',\n",
              " 'yours',\n",
              " 'yourself',\n",
              " 'yourselves',\n",
              " '{',\n",
              " '|',\n",
              " '}',\n",
              " '~'}"
            ]
          },
          "execution_count": 10,
          "metadata": {},
          "output_type": "execute_result"
        }
      ],
      "source": [
        "# Displaying the stopwords used in the project\n",
        "\n",
        "all_stops"
      ]
    },
    {
      "cell_type": "markdown",
      "metadata": {
        "id": "BVO-qe3sy2cV"
      },
      "source": [
        "### **Tokenization and Normalization Functions**"
      ]
    },
    {
      "cell_type": "code",
      "execution_count": null,
      "metadata": {
        "id": "QOiuuyv0-08J"
      },
      "outputs": [],
      "source": [
        "def spacy_tokenize(str):\n",
        "  tokens = list()\n",
        "  doc = nlp(str)\n",
        "  for token in doc:\n",
        "    tokens.append(token)\n",
        "  return tokens\n",
        "\n",
        "def tokens_normalize(str):\n",
        "  normalized_tokens = list()\n",
        "  tokens = spacy_tokenize(str)  \n",
        "  for token in tokens:\n",
        "    if (token.is_alpha):\n",
        "      lemma = token.lemma_.lower().strip() if token.lemma_ != '-PRON-' else token.lower_\n",
        "      if (lemma not in all_stops):\n",
        "        normalized_tokens.append(lemma)\n",
        "  return normalized_tokens"
      ]
    },
    {
      "cell_type": "markdown",
      "metadata": {
        "id": "T6klhvwCzEQH"
      },
      "source": [
        "### **Tokenizing and Normalizing Posts in the Train Data**"
      ]
    },
    {
      "cell_type": "code",
      "execution_count": null,
      "metadata": {
        "colab": {
          "base_uri": "https://localhost:8080/"
        },
        "id": "WNNdCEw8_VoZ",
        "outputId": "6a5ad93f-0bd6-418f-ebfd-1a746c078483"
      },
      "outputs": [
        {
          "data": {
            "text/plain": [
              "0                        It's a sad realization, isn't it?\n",
              "1        I told her a couple of minutes ago that I didn...\n",
              "2                        Leeches don't make good friends. \n",
              "3        I just ended it. Apparently she wasn't a good ...\n",
              "4             Good for you!  Make sure you stick with it. \n",
              "                               ...                        \n",
              "12133    If you were God, you'd know whether we would b...\n",
              "12134    If I check my account balance in 5 minutes and...\n",
              "12135    I don't know. Can you heal the sick with a tou...\n",
              "12136           ... Give LeBron James a championship ring?\n",
              "12137              Well, if you believed it, that'd be one\n",
              "Name: body, Length: 12138, dtype: object"
            ]
          },
          "execution_count": 12,
          "metadata": {},
          "output_type": "execute_result"
        }
      ],
      "source": [
        "train_data['body']"
      ]
    },
    {
      "cell_type": "code",
      "execution_count": null,
      "metadata": {
        "colab": {
          "base_uri": "https://localhost:8080/"
        },
        "id": "uxSKUa479vTl",
        "outputId": "d8fc40d8-cb36-4e9a-b630-f8f17f407510"
      },
      "outputs": [
        {
          "data": {
            "text/plain": [
              "0                                       [sad, realization]\n",
              "1        [tell, couple, minute, ago, want, continue, an...\n",
              "2                            [leeches, make, good, friend]\n",
              "3        [end, apparently, good, friend, even, bother, ...\n",
              "4                                [good, make, sure, stick]\n",
              "                               ...                        \n",
              "12133                 [god, know, whether, would, believe]\n",
              "12134    [check, account, balance, minute, believe, wor...\n",
              "12135    [know, heal, sick, touch, make, blind, able, s...\n",
              "12136            [give, lebron, james, championship, ring]\n",
              "12137                                 [well, believe, one]\n",
              "Name: body, Length: 12138, dtype: object"
            ]
          },
          "execution_count": 13,
          "metadata": {},
          "output_type": "execute_result"
        }
      ],
      "source": [
        "# Tokenized and normalized train data\n",
        "\n",
        "tokenize_all_posts = train_data.body.apply(tokens_normalize)\n",
        "tokenize_all_posts"
      ]
    },
    {
      "cell_type": "markdown",
      "metadata": {
        "id": "_npNZdV6zlfa"
      },
      "source": [
        "### **Label Encoding**"
      ]
    },
    {
      "cell_type": "code",
      "execution_count": null,
      "metadata": {
        "id": "24w33_YOh_eI"
      },
      "outputs": [],
      "source": [
        "labelencoder = LabelEncoder()\n",
        "labelencoder = labelencoder.fit(train_data['sentiment.polarity'])\n",
        "train_labels = labelencoder.transform(train_data['sentiment.polarity'])\n",
        "validation_labels = labelencoder.transform(validation_data['sentiment.polarity'])\n",
        "test_labels = labelencoder.transform(test_data['sentiment.polarity'])"
      ]
    },
    {
      "cell_type": "code",
      "execution_count": null,
      "metadata": {
        "colab": {
          "base_uri": "https://localhost:8080/"
        },
        "id": "5uHkqsrFQys_",
        "outputId": "27b1d81d-cb51-4998-c60e-294d95dcc38b"
      },
      "outputs": [
        {
          "data": {
            "text/plain": [
              "0        negative\n",
              "1         neutral\n",
              "2        positive\n",
              "3        positive\n",
              "4        positive\n",
              "           ...   \n",
              "12133     neutral\n",
              "12134     neutral\n",
              "12135    negative\n",
              "12136     neutral\n",
              "12137     neutral\n",
              "Name: sentiment.polarity, Length: 12138, dtype: object"
            ]
          },
          "execution_count": 93,
          "metadata": {},
          "output_type": "execute_result"
        }
      ],
      "source": [
        "train_data['sentiment.polarity']"
      ]
    },
    {
      "cell_type": "code",
      "execution_count": null,
      "metadata": {
        "colab": {
          "base_uri": "https://localhost:8080/"
        },
        "id": "otB27tuCTPtT",
        "outputId": "fe629f15-244e-4055-aa87-bb723f8b2de4"
      },
      "outputs": [
        {
          "data": {
            "text/plain": [
              "array([0, 1, 2, ..., 0, 1, 1])"
            ]
          },
          "execution_count": 94,
          "metadata": {},
          "output_type": "execute_result"
        }
      ],
      "source": [
        "# Label encoded data\n",
        "\n",
        "train_labels"
      ]
    },
    {
      "cell_type": "markdown",
      "metadata": {
        "id": "gTfzyoxY1baS"
      },
      "source": [
        "# **TRAINING AND EVALUATION USING DIFFERENT CLASSIFIERS**"
      ]
    },
    {
      "cell_type": "markdown",
      "metadata": {
        "id": "q6Ztm4t1BiDY"
      },
      "source": [
        "### **Evaluation Function Based on Precision, Recall, Accuracy and F1 Score**"
      ]
    },
    {
      "cell_type": "code",
      "execution_count": null,
      "metadata": {
        "id": "vuUCL30xpbd5"
      },
      "outputs": [],
      "source": [
        "def evaluation_summary(description, predictions, true_labels):\n",
        "  print(\"Evaluation for: \" + description)\n",
        "  precision = precision_score(predictions, true_labels, average='macro', zero_division=0)\n",
        "  recall = recall_score(predictions, true_labels, average='macro', zero_division=0)\n",
        "  accuracy = accuracy_score(predictions, true_labels)\n",
        "  f1 = fbeta_score(predictions, true_labels, beta=1, average='macro', zero_division=0)\n",
        "  print(\"Classifier '%s' has Acc=%0.3f P=%0.3f R=%0.3f F1=%0.3f\" % (description,accuracy,precision,recall,f1))"
      ]
    },
    {
      "cell_type": "markdown",
      "metadata": {
        "id": "mo2xEy9KCIDp"
      },
      "source": [
        "### **One-Hot Vectorization**"
      ]
    },
    {
      "cell_type": "code",
      "execution_count": null,
      "metadata": {
        "id": "_fENHPA2dfTg"
      },
      "outputs": [],
      "source": [
        "one_hot_vectorizer = CountVectorizer(tokenizer=tokens_normalize, binary=True)\n",
        "train_features = one_hot_vectorizer.fit_transform(train_data['body'])\n",
        "validation_features = one_hot_vectorizer.transform(validation_data['body'])\n",
        "test_features = one_hot_vectorizer.transform(test_data['body'])"
      ]
    },
    {
      "cell_type": "markdown",
      "metadata": {
        "id": "pNGIyBRNChg_"
      },
      "source": [
        "### **Dummy Classifier with strategy=\"stratified\"**"
      ]
    },
    {
      "cell_type": "code",
      "execution_count": null,
      "metadata": {
        "colab": {
          "base_uri": "https://localhost:8080/"
        },
        "id": "hAFACS8_lrBT",
        "outputId": "6a2edcb1-3c7e-457c-d1d7-f2ace62e2625"
      },
      "outputs": [
        {
          "name": "stdout",
          "output_type": "stream",
          "text": [
            "Evaluation for: Dummy Stratified\n",
            "Classifier 'Dummy Stratified' has Acc=0.474 P=0.193 R=0.193 F1=0.193\n"
          ]
        }
      ],
      "source": [
        "dummy_str = DummyClassifier(strategy='stratified')\n",
        "dummy_str.fit(train_features, train_labels)\n",
        "evaluation_summary('Dummy Stratified', dummy_str.predict(test_features), test_labels)"
      ]
    },
    {
      "cell_type": "markdown",
      "metadata": {
        "id": "SVAwjbFQCZp-"
      },
      "source": [
        "### **Dummy Classifier with strategy=\"most_frequent\"**"
      ]
    },
    {
      "cell_type": "code",
      "execution_count": null,
      "metadata": {
        "colab": {
          "base_uri": "https://localhost:8080/"
        },
        "id": "KH2E_1l5tgNi",
        "outputId": "eaf82291-bf34-4cc6-c34b-4127bf02f934"
      },
      "outputs": [
        {
          "name": "stdout",
          "output_type": "stream",
          "text": [
            "Evaluation for: Dummy Most Frequent\n",
            "Classifier 'Dummy Most Frequent' has Acc=0.626 P=0.200 R=0.125 F1=0.154\n"
          ]
        }
      ],
      "source": [
        "dummy_mf = DummyClassifier(strategy='most_frequent')\n",
        "dummy_mf.fit(train_features, train_labels)\n",
        "evaluation_summary('Dummy Most Frequent', dummy_mf.predict(test_features), test_labels)"
      ]
    },
    {
      "cell_type": "markdown",
      "metadata": {
        "id": "YD9A7wx3Cv8h"
      },
      "source": [
        "### **LogisticRegression with One-Hot Vectorization**"
      ]
    },
    {
      "cell_type": "code",
      "execution_count": null,
      "metadata": {
        "colab": {
          "base_uri": "https://localhost:8080/"
        },
        "id": "Fmh6lZLGCojI",
        "outputId": "11b9bdda-00a8-46cc-800c-036bd9ebe9f4"
      },
      "outputs": [
        {
          "name": "stdout",
          "output_type": "stream",
          "text": [
            "Evaluation for: LR One-hot\n",
            "Classifier 'LR One-hot' has Acc=0.719 P=0.400 R=0.588 F1=0.445\n"
          ]
        }
      ],
      "source": [
        "lr_one_hot = LogisticRegression(max_iter=1000)\n",
        "lr_one_hot_model = lr_one_hot.fit(train_features, train_labels)\n",
        "evaluation_summary('LR One-hot', lr_one_hot_model.predict(test_features), test_labels)"
      ]
    },
    {
      "cell_type": "markdown",
      "metadata": {
        "id": "kVvNKsyOC6kQ"
      },
      "source": [
        "### **SVC Classifier with One-Hot Vectorization**"
      ]
    },
    {
      "cell_type": "code",
      "execution_count": null,
      "metadata": {
        "colab": {
          "base_uri": "https://localhost:8080/"
        },
        "id": "E4UNDKQBOpsD",
        "outputId": "87cf5a7a-b3c3-4a4d-94ac-6c4409e0e091"
      },
      "outputs": [
        {
          "name": "stdout",
          "output_type": "stream",
          "text": [
            "Evaluation for: SVC One-hot\n",
            "Classifier 'SVC One-hot' has Acc=0.736 P=0.320 R=0.413 F1=0.332\n"
          ]
        }
      ],
      "source": [
        "svc = SVC(kernel='rbf')\n",
        "svc_model = svc.fit(train_features, train_labels)\n",
        "evaluation_summary('SVC One-hot', svc_model.predict(test_features), test_labels)"
      ]
    },
    {
      "cell_type": "markdown",
      "metadata": {
        "id": "HbWWbJVYDC8i"
      },
      "source": [
        "### **TF-IDF Vectorization**"
      ]
    },
    {
      "cell_type": "code",
      "execution_count": null,
      "metadata": {
        "id": "j5dFlFNgKAgz"
      },
      "outputs": [],
      "source": [
        "tf_idf_vectorizer = TfidfVectorizer(tokenizer=tokens_normalize)\n",
        "train_features_tf = tf_idf_vectorizer.fit_transform(train_data['body'])\n",
        "validation_features_tf = tf_idf_vectorizer.transform(validation_data['body'])\n",
        "test_features_tf = tf_idf_vectorizer.transform(test_data['body'])"
      ]
    },
    {
      "cell_type": "markdown",
      "metadata": {
        "id": "oPV5X3whDJds"
      },
      "source": [
        "### **LogisticRegression with TF-IDF Vectorization**"
      ]
    },
    {
      "cell_type": "code",
      "execution_count": null,
      "metadata": {
        "colab": {
          "base_uri": "https://localhost:8080/"
        },
        "id": "K8UviTonNVvc",
        "outputId": "cf095baf-2037-4371-b96a-ee7b6800622e"
      },
      "outputs": [
        {
          "name": "stdout",
          "output_type": "stream",
          "text": [
            "Evaluation for: LR TF-IDF\n",
            "Classifier 'LR TF-IDF' has Acc=0.727 P=0.323 R=0.607 F1=0.345\n"
          ]
        }
      ],
      "source": [
        "lr_tf_idf = LogisticRegression(max_iter=10000)\n",
        "lr_tf_idf_model = lr_tf_idf.fit(train_features_tf, train_labels)\n",
        "evaluation_summary('LR TF-IDF', lr_tf_idf_model.predict(test_features_tf), test_labels)"
      ]
    },
    {
      "cell_type": "markdown",
      "metadata": {
        "id": "8QOO00ByDlk6"
      },
      "source": [
        "### **Evaluating the Classifiers Based on Weighted Average of the Evaluation Metrics**"
      ]
    },
    {
      "cell_type": "code",
      "execution_count": null,
      "metadata": {
        "id": "PgWl2RLIlSRW"
      },
      "outputs": [],
      "source": [
        "model_names = ['Dummy Classifier_ST', 'Dummy Classifier_MF', 'LogisticRegression_OneHot', 'LogisticRegression_TFIDF', 'SVC Classifier']\n",
        "\n",
        "models = [dummy_str, dummy_mf, lr_one_hot_model, lr_tf_idf_model, svc_model]\n",
        "\n",
        "accuracy_list = []\n",
        "precision_list = []\n",
        "recall_list = []\n",
        "f1_list = []\n",
        "\n",
        "for model in models:\n",
        "  if model == lr_tf_idf_model:\n",
        "    test_f = test_features_tf\n",
        "  else:\n",
        "    test_f = test_features\n",
        "  accuracy_list.append(accuracy_score(model.predict(test_f), test_labels))\n",
        "  precision_list.append(precision_score(model.predict(test_f), test_labels, average='weighted', zero_division=0))\n",
        "  recall_list.append(recall_score(model.predict(test_f), test_labels, average='weighted', zero_division=0))\n",
        "  f1_list.append(fbeta_score(model.predict(test_f), test_labels, beta=1, average='weighted', zero_division=0))"
      ]
    },
    {
      "cell_type": "markdown",
      "metadata": {
        "id": "WllrlIJ6D8Vv"
      },
      "source": [
        "### **Best Performing Classifier (By Weighted F1 in Test Set)**"
      ]
    },
    {
      "cell_type": "code",
      "execution_count": null,
      "metadata": {
        "colab": {
          "base_uri": "https://localhost:8080/",
          "height": 206
        },
        "id": "iKXNLPJqqb42",
        "outputId": "f19ecc6d-ff79-4837-a06b-9f947020131d"
      },
      "outputs": [
        {
          "data": {
            "text/html": [
              "<style  type=\"text/css\" >\n",
              "#T_b9ac590a_6d76_11ec_9182_0242ac1c0002row4_col0,#T_b9ac590a_6d76_11ec_9182_0242ac1c0002row4_col1,#T_b9ac590a_6d76_11ec_9182_0242ac1c0002row4_col2,#T_b9ac590a_6d76_11ec_9182_0242ac1c0002row4_col3,#T_b9ac590a_6d76_11ec_9182_0242ac1c0002row4_col4{\n",
              "            background-color:  yellow;\n",
              "        }</style><table id=\"T_b9ac590a_6d76_11ec_9182_0242ac1c0002\" class=\"dataframe\"><thead>    <tr>        <th class=\"blank level0\" ></th>        <th class=\"col_heading level0 col0\" >Models</th>        <th class=\"col_heading level0 col1\" >Accuracy</th>        <th class=\"col_heading level0 col2\" >Precision</th>        <th class=\"col_heading level0 col3\" >Recall</th>        <th class=\"col_heading level0 col4\" >F1 Score</th>    </tr></thead><tbody>\n",
              "                <tr>\n",
              "                        <th id=\"T_b9ac590a_6d76_11ec_9182_0242ac1c0002level0_row0\" class=\"row_heading level0 row0\" >0</th>\n",
              "                        <td id=\"T_b9ac590a_6d76_11ec_9182_0242ac1c0002row0_col0\" class=\"data row0 col0\" >Dummy Classifier_ST</td>\n",
              "                        <td id=\"T_b9ac590a_6d76_11ec_9182_0242ac1c0002row0_col1\" class=\"data row0 col1\" >0.468625</td>\n",
              "                        <td id=\"T_b9ac590a_6d76_11ec_9182_0242ac1c0002row0_col2\" class=\"data row0 col2\" >0.476979</td>\n",
              "                        <td id=\"T_b9ac590a_6d76_11ec_9182_0242ac1c0002row0_col3\" class=\"data row0 col3\" >0.476096</td>\n",
              "                        <td id=\"T_b9ac590a_6d76_11ec_9182_0242ac1c0002row0_col4\" class=\"data row0 col4\" >0.473140</td>\n",
              "            </tr>\n",
              "            <tr>\n",
              "                        <th id=\"T_b9ac590a_6d76_11ec_9182_0242ac1c0002level0_row1\" class=\"row_heading level0 row1\" >1</th>\n",
              "                        <td id=\"T_b9ac590a_6d76_11ec_9182_0242ac1c0002row1_col0\" class=\"data row1 col0\" >Dummy Classifier_MF</td>\n",
              "                        <td id=\"T_b9ac590a_6d76_11ec_9182_0242ac1c0002row1_col1\" class=\"data row1 col1\" >0.625996</td>\n",
              "                        <td id=\"T_b9ac590a_6d76_11ec_9182_0242ac1c0002row1_col2\" class=\"data row1 col2\" >1.000000</td>\n",
              "                        <td id=\"T_b9ac590a_6d76_11ec_9182_0242ac1c0002row1_col3\" class=\"data row1 col3\" >0.625996</td>\n",
              "                        <td id=\"T_b9ac590a_6d76_11ec_9182_0242ac1c0002row1_col4\" class=\"data row1 col4\" >0.769985</td>\n",
              "            </tr>\n",
              "            <tr>\n",
              "                        <th id=\"T_b9ac590a_6d76_11ec_9182_0242ac1c0002level0_row2\" class=\"row_heading level0 row2\" >2</th>\n",
              "                        <td id=\"T_b9ac590a_6d76_11ec_9182_0242ac1c0002row2_col0\" class=\"data row2 col0\" >LogisticRegression_OneHot</td>\n",
              "                        <td id=\"T_b9ac590a_6d76_11ec_9182_0242ac1c0002row2_col1\" class=\"data row2 col1\" >0.719373</td>\n",
              "                        <td id=\"T_b9ac590a_6d76_11ec_9182_0242ac1c0002row2_col2\" class=\"data row2 col2\" >0.767465</td>\n",
              "                        <td id=\"T_b9ac590a_6d76_11ec_9182_0242ac1c0002row2_col3\" class=\"data row2 col3\" >0.719373</td>\n",
              "                        <td id=\"T_b9ac590a_6d76_11ec_9182_0242ac1c0002row2_col4\" class=\"data row2 col4\" >0.737169</td>\n",
              "            </tr>\n",
              "            <tr>\n",
              "                        <th id=\"T_b9ac590a_6d76_11ec_9182_0242ac1c0002level0_row3\" class=\"row_heading level0 row3\" >3</th>\n",
              "                        <td id=\"T_b9ac590a_6d76_11ec_9182_0242ac1c0002row3_col0\" class=\"data row3 col0\" >LogisticRegression_TFIDF</td>\n",
              "                        <td id=\"T_b9ac590a_6d76_11ec_9182_0242ac1c0002row3_col1\" class=\"data row3 col1\" >0.726594</td>\n",
              "                        <td id=\"T_b9ac590a_6d76_11ec_9182_0242ac1c0002row3_col2\" class=\"data row3 col2\" >0.828421</td>\n",
              "                        <td id=\"T_b9ac590a_6d76_11ec_9182_0242ac1c0002row3_col3\" class=\"data row3 col3\" >0.726594</td>\n",
              "                        <td id=\"T_b9ac590a_6d76_11ec_9182_0242ac1c0002row3_col4\" class=\"data row3 col4\" >0.763287</td>\n",
              "            </tr>\n",
              "            <tr>\n",
              "                        <th id=\"T_b9ac590a_6d76_11ec_9182_0242ac1c0002level0_row4\" class=\"row_heading level0 row4\" >4</th>\n",
              "                        <td id=\"T_b9ac590a_6d76_11ec_9182_0242ac1c0002row4_col0\" class=\"data row4 col0\" >SVC Classifier</td>\n",
              "                        <td id=\"T_b9ac590a_6d76_11ec_9182_0242ac1c0002row4_col1\" class=\"data row4 col1\" >0.736305</td>\n",
              "                        <td id=\"T_b9ac590a_6d76_11ec_9182_0242ac1c0002row4_col2\" class=\"data row4 col2\" >0.831549</td>\n",
              "                        <td id=\"T_b9ac590a_6d76_11ec_9182_0242ac1c0002row4_col3\" class=\"data row4 col3\" >0.736305</td>\n",
              "                        <td id=\"T_b9ac590a_6d76_11ec_9182_0242ac1c0002row4_col4\" class=\"data row4 col4\" >0.771831</td>\n",
              "            </tr>\n",
              "    </tbody></table>"
            ],
            "text/plain": [
              "<pandas.io.formats.style.Styler at 0x7fbc8565ee50>"
            ]
          },
          "execution_count": 26,
          "metadata": {},
          "output_type": "execute_result"
        }
      ],
      "source": [
        "dict = {\n",
        "    'Models' : model_names,\n",
        "    'Accuracy': accuracy_list,\n",
        "    'Precision': precision_list,\n",
        "    'Recall': recall_list,\n",
        "    'F1 Score': f1_list\n",
        "}\n",
        "\n",
        "df = pd.DataFrame(dict)\n",
        "\n",
        "def highlight_max(s, max_val, column):\n",
        "  is_max = pd.Series(data=False, index=s.index)\n",
        "  is_max[column] = s.loc[column] == max_val\n",
        "  return ['background-color: yellow' if is_max.any() else '' for val in is_max]\n",
        "  \n",
        "df.style.apply(highlight_max, max_val=df['F1 Score'].max(), column=['F1 Score'], axis=1)"
      ]
    },
    {
      "cell_type": "markdown",
      "metadata": {
        "id": "6fKKjegHEIoP"
      },
      "source": [
        "### **F1 Score for Each Class of the Best Performing Classifier**"
      ]
    },
    {
      "cell_type": "code",
      "execution_count": null,
      "metadata": {
        "colab": {
          "base_uri": "https://localhost:8080/",
          "height": 374
        },
        "id": "LNxjKJiptAVN",
        "outputId": "59fa542a-e22f-4404-b19b-afa7e313f453"
      },
      "outputs": [
        {
          "data": {
            "image/png": "[encoded data removed]",
            "text/plain": [
              "<Figure size 432x288 with 1 Axes>"
            ]
          },
          "metadata": {},
          "output_type": "display_data"
        }
      ],
      "source": [
        "best_model = models[df.index[df['F1 Score'] == df['F1 Score'].max()].tolist()[0]]\n",
        "if best_model == lr_tf_idf_model:\n",
        "  test_f = test_features_tf\n",
        "else:\n",
        "  test_f = test_features\n",
        "f1_score_perClass = f1_score(best_model.predict(test_f), test_labels, average=None)\n",
        "\n",
        "polarity_labels = labels.value_counts().index\n",
        "fig = plt.figure()\n",
        "ax = fig.add_axes([0,0,1,1])\n",
        "ax.bar(polarity_labels, f1_score_perClass)\n",
        "ax.set_title('F1 Score for Each Class', fontsize=18)\n",
        "ax.set_xlabel('Sentiment Polarity Labels', fontsize=14)\n",
        "ax.set_ylabel('F1 Score', fontsize=14)\n",
        "plt.show()"
      ]
    },
    {
      "cell_type": "markdown",
      "metadata": {
        "id": "GSS_6BLxHKnv"
      },
      "source": [
        "### **Baseline TF-IDF Logistic Regression Model**"
      ]
    },
    {
      "cell_type": "code",
      "execution_count": null,
      "metadata": {
        "colab": {
          "base_uri": "https://localhost:8080/"
        },
        "id": "-lyxk1spWEH7",
        "outputId": "dc9e8c3c-de35-4936-ac51-a4ec403cc87b"
      },
      "outputs": [
        {
          "name": "stdout",
          "output_type": "stream",
          "text": [
            "Evaluation for: Baseline TF-IDF Model\n",
            "Classifier 'Baseline TF-IDF Model' has Acc=0.727 P=0.323 R=0.607 F1=0.345\n"
          ]
        }
      ],
      "source": [
        "baseline_model = Pipeline(steps=[\n",
        "                 ('tfidf', TfidfVectorizer(tokenizer=tokens_normalize)),\n",
        "                 ('lr', LogisticRegression(max_iter=10000))\n",
        "])\n",
        "baseline_model.fit(train_data['body'], train_labels)\n",
        "\n",
        "evaluation_summary('Baseline TF-IDF Model', baseline_model.predict(test_data['body']), test_labels)"
      ]
    },
    {
      "cell_type": "markdown",
      "metadata": {
        "id": "CdL24NfEHqKy"
      },
      "source": [
        "### **Hyperparamter Tuning TF-IDF Logistic Regression Model**"
      ]
    },
    {
      "cell_type": "code",
      "execution_count": null,
      "metadata": {
        "colab": {
          "base_uri": "https://localhost:8080/"
        },
        "id": "DytxEY2V4k__",
        "outputId": "17232816-1322-4d2d-941e-fa87af56f886"
      },
      "outputs": [
        {
          "name": "stdout",
          "output_type": "stream",
          "text": [
            "----Started Tuning----\n",
            "Current Best Score: 0.348\n",
            "Current Best Score: 0.408\n",
            "Current Best Score: 0.443\n",
            "Current Best Score: 0.478\n",
            "\n",
            "Tuning completed in : 0:47:48\n",
            "Best score : 0.478\n",
            "Best parameters set:\n",
            "\tlr__C: 10.0\n",
            "\ttfidf__max_features: 1000\n",
            "\ttfidf__ngram_range: (1, 1)\n",
            "\ttfidf__sublinear_tf: True\n"
          ]
        }
      ],
      "source": [
        "start_time = time.time()\n",
        "\n",
        "print('----Started Tuning----')\n",
        "\n",
        "tuned_Model = Pipeline(steps=[\n",
        "                 ('tfidf', TfidfVectorizer(tokenizer=tokens_normalize)),\n",
        "                 ('lr', LogisticRegression(max_iter=10000))\n",
        "])\n",
        "\n",
        "param_grid = {\n",
        "    'tfidf__sublinear_tf': [True, False],\n",
        "    'tfidf__max_features': [None, 1000, 5000, 10000, 50000],\n",
        "    'tfidf__ngram_range': [(1, 1), (1, 2)],\n",
        "    'lr__C': [.001, .1, 1.0, 10.0, 10000.0]\n",
        "}\n",
        "\n",
        "best_f1_score = fbeta_score(baseline_model.predict(validation_data['body']), validation_labels, beta=1, average='macro', zero_division=0)\n",
        "\n",
        "for param in ParameterGrid(param_grid):\n",
        "  tuned_Model.set_params(**param)\n",
        "  tuned_Model.fit(train_data['body'], train_labels)\n",
        "\n",
        "  pred = tuned_Model.predict(validation_data['body'])\n",
        "  f1_score = fbeta_score(pred, validation_labels, beta=1, average='macro', zero_division=0)\n",
        "\n",
        "  if f1_score > best_f1_score:\n",
        "    best_f1_score = f1_score\n",
        "    best_parameters = param\n",
        "    print('Current Best Score: %0.3f' % best_f1_score)\n",
        "\n",
        "time_elapsed = time.time() - start_time\n",
        "print('\\nTuning completed in :', str(datetime.timedelta(seconds=time_elapsed)).split(\".\")[0])\n",
        "print(\"Best score : %0.3f\" % best_f1_score)\n",
        "print(\"Best parameters set:\")\n",
        "for param_name in sorted(param_grid.keys()):\n",
        "  print(\"\\t%s: %r\" % (param_name, best_parameters[param_name]))"
      ]
    },
    {
      "cell_type": "markdown",
      "metadata": {
        "id": "KVQplM9UIJBW"
      },
      "source": [
        "### **Best Tuned TF-IDF Logistic Regression Model**"
      ]
    },
    {
      "cell_type": "code",
      "execution_count": null,
      "metadata": {
        "colab": {
          "base_uri": "https://localhost:8080/"
        },
        "id": "1ekcfd5dsk4n",
        "outputId": "ff273ec4-555b-4b5a-8465-b1dd321c63fc"
      },
      "outputs": [
        {
          "data": {
            "text/plain": [
              "Pipeline(steps=[('tfidf',\n",
              "                 TfidfVectorizer(max_features=1000, sublinear_tf=True,\n",
              "                                 tokenizer=<function tokens_normalize at 0x7fbc826feb90>)),\n",
              "                ('lr', LogisticRegression(C=10.0, max_iter=10000))])"
            ]
          },
          "execution_count": 30,
          "metadata": {},
          "output_type": "execute_result"
        }
      ],
      "source": [
        "best_tunedModel = Pipeline(steps=[\n",
        "                 ('tfidf', TfidfVectorizer(tokenizer=tokens_normalize)),\n",
        "                 ('lr', LogisticRegression(max_iter=10000))\n",
        "])\n",
        "best_tunedModel.set_params(**best_parameters)\n",
        "best_tunedModel.fit(train_data['body'], train_labels)"
      ]
    },
    {
      "cell_type": "markdown",
      "metadata": {
        "id": "6KLRUkPfITbu"
      },
      "source": [
        "### **Evaluating Baseline and Tuned TF-IDF Logistic Regression Model**"
      ]
    },
    {
      "cell_type": "code",
      "execution_count": null,
      "metadata": {
        "colab": {
          "base_uri": "https://localhost:8080/"
        },
        "id": "d3P97evd4w3L",
        "outputId": "bef202d6-a2a2-4d48-ed80-66d82c6d851c"
      },
      "outputs": [
        {
          "name": "stdout",
          "output_type": "stream",
          "text": [
            "Evaluation for: Baseline TF-IDF Model\n",
            "Classifier 'Baseline TF-IDF Model' has Acc=0.727 P=0.323 R=0.607 F1=0.345\n",
            "Evaluation for: Best Tuned TF-IDF Model\n",
            "Classifier 'Best Tuned TF-IDF Model' has Acc=0.736 P=0.447 R=0.601 F1=0.496\n"
          ]
        }
      ],
      "source": [
        "evaluation_summary('Baseline TF-IDF Model', baseline_model.predict(test_data['body']), test_labels)\n",
        "evaluation_summary('Best Tuned TF-IDF Model', best_tunedModel.predict(test_data['body']), test_labels)"
      ]
    },
    {
      "cell_type": "code",
      "execution_count": null,
      "metadata": {
        "colab": {
          "base_uri": "https://localhost:8080/",
          "height": 35
        },
        "id": "F5yqI4nCmwlo",
        "outputId": "e452fdeb-3298-4d90-d743-70ebbe9034c1"
      },
      "outputs": [
        {
          "data": {
            "application/vnd.google.colaboratory.intrinsic+json": {
              "type": "string"
            },
            "text/plain": [
              "'positive'"
            ]
          },
          "execution_count": 95,
          "metadata": {},
          "output_type": "execute_result"
        }
      ],
      "source": [
        "predicted_value = best_tunedModel.predict(['Feels so happy about the course'])\n",
        "predicted_label = labelencoder.inverse_transform(predicted_value)\n",
        "predicted_label[0]"
      ]
    },
    {
      "cell_type": "markdown",
      "metadata": {
        "id": "w_0SfbtYIpJA"
      },
      "source": [
        "### **Word Emdedding on the Train and Test Data**"
      ]
    },
    {
      "cell_type": "code",
      "execution_count": null,
      "metadata": {
        "id": "YOXpA_9RgAj9"
      },
      "outputs": [],
      "source": [
        "tokenize_all_trainData = train_data.body.apply(tokens_normalize)\n",
        "trainData_tokens = tokenize_all_trainData.values\n",
        "tokenize_all_testData = test_data.body.apply(tokens_normalize)\n",
        "testData_tokens = tokenize_all_testData.values\n",
        "\n",
        "train_word2vec_model = Word2Vec(trainData_tokens, min_count = 1, size = 1000, workers = 3, window = 3, sg = 1)\n",
        "test_word2vec_model = Word2Vec(testData_tokens, min_count = 1, size = 1000, workers = 3, window = 3, sg = 1)\n",
        "\n",
        "def createEmbeddedFeatures(data_tokens, word2vec_model):\n",
        "  embeddedFeatures = []\n",
        "  for tokens in data_tokens:\n",
        "    if tokens:\n",
        "      vectors = (np.mean([word2vec_model.wv[token] for token in tokens], axis=0)).tolist()\n",
        "    if type(vectors) is list:\n",
        "      embeddedFeatures.append(vectors)\n",
        "    else:\n",
        "      embeddedFeatures.append(np.array([0 for i in range(1000)]))\n",
        "  return embeddedFeatures\n",
        "\n",
        "train_embeddedFeatures = createEmbeddedFeatures(trainData_tokens, train_word2vec_model)\n",
        "test_embeddedFeatures = createEmbeddedFeatures(testData_tokens, test_word2vec_model)"
      ]
    },
    {
      "cell_type": "markdown",
      "metadata": {
        "id": "i3S4F5gCI0Lk"
      },
      "source": [
        "### **Training and Evaluating Embedded Data using Logistic Regression Classifier**"
      ]
    },
    {
      "cell_type": "code",
      "execution_count": null,
      "metadata": {
        "colab": {
          "base_uri": "https://localhost:8080/"
        },
        "id": "zzc2mhI-PniD",
        "outputId": "2a9c8599-d5c6-478b-c552-06c15ee0872b"
      },
      "outputs": [
        {
          "name": "stdout",
          "output_type": "stream",
          "text": [
            "Evaluation for: Word Embedded LR Model\n",
            "Classifier 'Word Embedded LR Model' has Acc=0.626 P=0.200 R=0.125 F1=0.154\n"
          ]
        }
      ],
      "source": [
        "lr_embedding = LogisticRegression(C=10.0, max_iter=10000)\n",
        "lr_embedding_model = lr_embedding.fit(train_embeddedFeatures, train_labels)\n",
        "evaluation_summary('Word Embedded LR Model', lr_embedding_model.predict(test_embeddedFeatures), test_labels)"
      ]
    },
    {
      "cell_type": "markdown",
      "metadata": {
        "id": "rdp2ZqPw52mf"
      },
      "source": [
        "### **Saving the Best Trained Model and the Label Encoder**"
      ]
    },
    {
      "cell_type": "code",
      "execution_count": null,
      "metadata": {
        "id": "MY_Ate2yl2kI"
      },
      "outputs": [],
      "source": [
        "file = open('sentiment_classifier.pkl', 'wb')\n",
        "joblib.dump(best_tunedModel, file)"
      ]
    },
    {
      "cell_type": "code",
      "execution_count": null,
      "metadata": {
        "id": "D-tQeqP23zya"
      },
      "outputs": [],
      "source": [
        "file = open('label_encoder.pkl', 'wb')\n",
        "joblib.dump(labelencoder, file)"
      ]
    }
  ],
  "metadata": {
    "accelerator": "GPU",
    "colab": {
      "collapsed_sections": [],
      "machine_shape": "hm",
      "name": "Subreddit Post Sentiment Classification",
      "provenance": []
    },
    "kernelspec": {
      "display_name": "Python 3",
      "name": "python3"
    }
  },
  "nbformat": 4,
  "nbformat_minor": 0
}